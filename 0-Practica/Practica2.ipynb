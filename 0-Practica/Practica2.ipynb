{
 "cells": [
  {
   "cell_type": "markdown",
   "metadata": {},
   "source": [
    "# Introducción\n",
    "\n",
    "En esta práctica vamos a repasar diferentes tests estadísticos. Para ello nos ayudamos de los datos publicados por BCSC:\n",
    "*NCI-funded Breast Cancer Surveillance Consortium (P01 CA154292 and HHSN261201100031C). Downloaded mm/dd/yyyy from the Breast Cancer Surveillance Consortium Web site - http://www.bcsc-research.org/data/index.html.*\n",
    "\n",
    "Concretamente a través de este enlace:\n",
    "http://www.bcsc-research.org/data/rf/app2/DownloadRequest.aspx\n",
    "\n",
    "\n",
    "El fichero *BCSC_risk_factors_summarized.csv* descargado lo teneis en la carpeta *data*.\n",
    "\n",
    "Ese fichero es un CSV, la descripción de cada columna se puede ver en la siguiente tabla:"
   ]
  },
  {
   "cell_type": "markdown",
   "metadata": {},
   "source": [
    "\n",
    "| Nombre de variable | Descripción | Código | \n",
    "|-|-|-|\n",
    "| year | Año de la observación | Numérico, 2000-2009 |\n",
    "| year_group_5_years| Edad (años) en grupos de 5 años |  1 = Edad 18-29;  2 = Edad 30-34; 3 = Edad 35-39; 4 = Edad 40-44; 5 = Edad 45-49; 6 = Edad 50-54; 7 = Edad 55-59; 8 = Edad 60-64; 9 = Edad 65-69; 10 = Edad 70-74; 11 = Edad 75-79; 12 = Edad 80-84; 13 = Edad ≥85 |\n",
    "| race_eth | Grupo étnico | 1 = Non-Hispanic white; 2 = Non-Hispanic black; 3 = Asian/Pacific Islander; 4 = Native American; 5 = Hispanic; 6 = Other/mixed; 9 = Desconocido |\n",
    "| first_degree_hx | Historial de cancer de un familiar de primer grado | 0 = No; 1 = Sí; 9 = Desconocido |\n",
    "| Edad_menarche | Edad (años) at menarche |0 = Edad ≥14; 1 = Edad 12-13; 2 = Edad <12; 9 = Desconocido\n",
    "| Edad_first_birth | Edad (años) at first birth | 0 = Edad < 20; 1 = Edad 20-24; 2 = Edad 25-29; 3 = Edad ≥30; 4 = Nulliparous; 9 = Desconocido |\n",
    "| BIRADS_breast_density | BI-RADS densidad del cancer de pecho| 1 = Almost entirely fat; 2 =Scattered fibroglandular densities; 3 = Heterogeneously dense; 4 = Extremely dense; 9 = Desconocido |\n",
    "| current_hrt | Uso de terapia de hormonas de reemplazo | 0 = No; 1 = Sí; 9 = Desconocido |\n",
    "| menopaus | Menopausal status | 1 = Pre- or peri-menopausal; 2 = Post-menopausal; 3 = Surgical menopause; 9 = Desconocido |\n",
    "| bmi_group |  Body mass index | 1 = 10-24.99; 2 = 25-29.99; 3 = 30-34.99; 4 = 35 or more; 9 = Desconocido |\n",
    "| biophx | Biopsia previa o aspiración | 0 = No; 1 = Sí; 9 = Desconocido |\n",
    "| breast_cancer_history | Cancer diagnosticado con anterioridad | 0 = No; 1 = Sí; 9 = Desconocido |\n",
    "| count | Número de ocurrencias de estas covariables | Numérico|\n",
    "\n",
    "\n"
   ]
  },
  {
   "cell_type": "markdown",
   "metadata": {},
   "source": [
    "Leemos los datos del csv y los adaptamos. Pasos a seguir:\n",
    "1. Replicamos las filas indicadas por la columna *count*\n",
    "2. Los datos son muy grandes, para agilizar la práctica nos quedamos con 5000 muestras elegidas con muestreo aleatorio simple. El resto se puede descartar.\n",
    "3. Se adapta el resto"
   ]
  },
  {
   "cell_type": "code",
   "execution_count": 6,
   "metadata": {},
   "outputs": [],
   "source": [
    "riskfactors<-read.csv(\"./datos/BCSC_risk_factors_summarized.csv\", sep = \",\")\n"
   ]
  },
  {
   "cell_type": "code",
   "execution_count": 7,
   "metadata": {},
   "outputs": [],
   "source": [
    "library(ggplot2)"
   ]
  },
  {
   "cell_type": "code",
   "execution_count": 8,
   "metadata": {},
   "outputs": [],
   "source": [
    "riskfactorsDuplicatedIndexes <- rep(row.names(riskfactors), riskfactors$count)"
   ]
  },
  {
   "cell_type": "code",
   "execution_count": 9,
   "metadata": {},
   "outputs": [
    {
     "data": {
      "text/html": [
       "6318638"
      ],
      "text/latex": [
       "6318638"
      ],
      "text/markdown": [
       "6318638"
      ],
      "text/plain": [
       "[1] 6318638"
      ]
     },
     "metadata": {},
     "output_type": "display_data"
    }
   ],
   "source": [
    "length(riskfactorsDuplicatedIndexes)"
   ]
  },
  {
   "cell_type": "markdown",
   "metadata": {},
   "source": [
    "El número de filas tras replicar las filas indicadas por la columna *count* es de 6318638. Como este número es muy alto para la máquina virtual que tenemos vamos a realizar una muestreo aleatorio simple y nos quedaremos con 5000 filas. El resto se descartan.\n",
    "\n",
    "*Nota:*Para el muestreo usad la semilla 12345, de esta forma todos tendresmos exactamente los mismos resultados."
   ]
  },
  {
   "cell_type": "code",
   "execution_count": 10,
   "metadata": {},
   "outputs": [],
   "source": [
    "#Definimos una semilla común para todos:\n",
    "set.seed(12345)\n",
    "#Utiliza muestreo aleatorio simple para quedarnos con 5000 muestras:\n",
    "riskfactorsSampledIndexes <- riskfactorsDuplicatedIndexes[sample(1:length(riskfactorsDuplicatedIndexes), 5000)]"
   ]
  },
  {
   "cell_type": "code",
   "execution_count": 11,
   "metadata": {},
   "outputs": [],
   "source": [
    "riskfactorsSampled <- riskfactors[riskfactorsSampledIndexes,]"
   ]
  },
  {
   "cell_type": "code",
   "execution_count": 12,
   "metadata": {
    "scrolled": true
   },
   "outputs": [
    {
     "data": {
      "text/html": [
       "<table>\n",
       "<thead><tr><th></th><th scope=col>year</th><th scope=col>age_group_5_years</th><th scope=col>race_eth</th><th scope=col>first_degree_hx</th><th scope=col>age_menarche</th><th scope=col>age_first_birth</th><th scope=col>BIRADS_breast_density</th><th scope=col>current_hrt</th><th scope=col>menopaus</th><th scope=col>bmi_group</th><th scope=col>biophx</th><th scope=col>breast_cancer_history</th><th scope=col>count</th></tr></thead>\n",
       "<tbody>\n",
       "\t<tr><th scope=row>792997</th><td>2006</td><td> 8  </td><td>9   </td><td>9   </td><td>9   </td><td>9   </td><td>2   </td><td>9   </td><td>2   </td><td>9   </td><td>0   </td><td>0   </td><td> 218</td></tr>\n",
       "\t<tr><th scope=row>986739</th><td>2008</td><td> 7  </td><td>2   </td><td>0   </td><td>9   </td><td>9   </td><td>2   </td><td>0   </td><td>2   </td><td>9   </td><td>0   </td><td>0   </td><td> 771</td></tr>\n",
       "\t<tr><th scope=row>845393</th><td>2007</td><td> 5  </td><td>1   </td><td>0   </td><td>9   </td><td>9   </td><td>2   </td><td>0   </td><td>1   </td><td>9   </td><td>0   </td><td>0   </td><td> 877</td></tr>\n",
       "\t<tr><th scope=row>996805</th><td>2008</td><td> 8  </td><td>1   </td><td>1   </td><td>1   </td><td>1   </td><td>2   </td><td>0   </td><td>2   </td><td>2   </td><td>0   </td><td>0   </td><td>  32</td></tr>\n",
       "\t<tr><th scope=row>481428</th><td>2004</td><td> 3  </td><td>1   </td><td>0   </td><td>9   </td><td>9   </td><td>3   </td><td>0   </td><td>1   </td><td>2   </td><td>0   </td><td>0   </td><td>  97</td></tr>\n",
       "\t<tr><th scope=row>169906</th><td>2001</td><td> 6  </td><td>5   </td><td>0   </td><td>9   </td><td>9   </td><td>1   </td><td>1   </td><td>2   </td><td>3   </td><td>0   </td><td>0   </td><td>  11</td></tr>\n",
       "\t<tr><th scope=row>333718</th><td>2002</td><td>10  </td><td>1   </td><td>0   </td><td>9   </td><td>9   </td><td>9   </td><td>0   </td><td>2   </td><td>2   </td><td>0   </td><td>0   </td><td> 148</td></tr>\n",
       "\t<tr><th scope=row>537807</th><td>2004</td><td> 6  </td><td>9   </td><td>9   </td><td>9   </td><td>9   </td><td>9   </td><td>9   </td><td>9   </td><td>9   </td><td>9   </td><td>9   </td><td>5518</td></tr>\n",
       "\t<tr><th scope=row>801853</th><td>2006</td><td> 9  </td><td>9   </td><td>0   </td><td>9   </td><td>1   </td><td>1   </td><td>0   </td><td>2   </td><td>9   </td><td>0   </td><td>0   </td><td>  24</td></tr>\n",
       "\t<tr><th scope=row>1126577</th><td>2009</td><td>10  </td><td>1   </td><td>9   </td><td>2   </td><td>9   </td><td>2   </td><td>0   </td><td>2   </td><td>2   </td><td>0   </td><td>0   </td><td>   1</td></tr>\n",
       "</tbody>\n",
       "</table>\n"
      ],
      "text/latex": [
       "\\begin{tabular}{r|lllllllllllll}\n",
       "  & year & age\\_group\\_5\\_years & race\\_eth & first\\_degree\\_hx & age\\_menarche & age\\_first\\_birth & BIRADS\\_breast\\_density & current\\_hrt & menopaus & bmi\\_group & biophx & breast\\_cancer\\_history & count\\\\\n",
       "\\hline\n",
       "\t792997 & 2006 &  8   & 9    & 9    & 9    & 9    & 2    & 9    & 2    & 9    & 0    & 0    &  218\\\\\n",
       "\t986739 & 2008 &  7   & 2    & 0    & 9    & 9    & 2    & 0    & 2    & 9    & 0    & 0    &  771\\\\\n",
       "\t845393 & 2007 &  5   & 1    & 0    & 9    & 9    & 2    & 0    & 1    & 9    & 0    & 0    &  877\\\\\n",
       "\t996805 & 2008 &  8   & 1    & 1    & 1    & 1    & 2    & 0    & 2    & 2    & 0    & 0    &   32\\\\\n",
       "\t481428 & 2004 &  3   & 1    & 0    & 9    & 9    & 3    & 0    & 1    & 2    & 0    & 0    &   97\\\\\n",
       "\t169906 & 2001 &  6   & 5    & 0    & 9    & 9    & 1    & 1    & 2    & 3    & 0    & 0    &   11\\\\\n",
       "\t333718 & 2002 & 10   & 1    & 0    & 9    & 9    & 9    & 0    & 2    & 2    & 0    & 0    &  148\\\\\n",
       "\t537807 & 2004 &  6   & 9    & 9    & 9    & 9    & 9    & 9    & 9    & 9    & 9    & 9    & 5518\\\\\n",
       "\t801853 & 2006 &  9   & 9    & 0    & 9    & 1    & 1    & 0    & 2    & 9    & 0    & 0    &   24\\\\\n",
       "\t1126577 & 2009 & 10   & 1    & 9    & 2    & 9    & 2    & 0    & 2    & 2    & 0    & 0    &    1\\\\\n",
       "\\end{tabular}\n"
      ],
      "text/markdown": [
       "\n",
       "| <!--/--> | year | age_group_5_years | race_eth | first_degree_hx | age_menarche | age_first_birth | BIRADS_breast_density | current_hrt | menopaus | bmi_group | biophx | breast_cancer_history | count |\n",
       "|---|---|---|---|---|---|---|---|---|---|---|---|---|---|\n",
       "| 792997 | 2006 |  8   | 9    | 9    | 9    | 9    | 2    | 9    | 2    | 9    | 0    | 0    |  218 |\n",
       "| 986739 | 2008 |  7   | 2    | 0    | 9    | 9    | 2    | 0    | 2    | 9    | 0    | 0    |  771 |\n",
       "| 845393 | 2007 |  5   | 1    | 0    | 9    | 9    | 2    | 0    | 1    | 9    | 0    | 0    |  877 |\n",
       "| 996805 | 2008 |  8   | 1    | 1    | 1    | 1    | 2    | 0    | 2    | 2    | 0    | 0    |   32 |\n",
       "| 481428 | 2004 |  3   | 1    | 0    | 9    | 9    | 3    | 0    | 1    | 2    | 0    | 0    |   97 |\n",
       "| 169906 | 2001 |  6   | 5    | 0    | 9    | 9    | 1    | 1    | 2    | 3    | 0    | 0    |   11 |\n",
       "| 333718 | 2002 | 10   | 1    | 0    | 9    | 9    | 9    | 0    | 2    | 2    | 0    | 0    |  148 |\n",
       "| 537807 | 2004 |  6   | 9    | 9    | 9    | 9    | 9    | 9    | 9    | 9    | 9    | 9    | 5518 |\n",
       "| 801853 | 2006 |  9   | 9    | 0    | 9    | 1    | 1    | 0    | 2    | 9    | 0    | 0    |   24 |\n",
       "| 1126577 | 2009 | 10   | 1    | 9    | 2    | 9    | 2    | 0    | 2    | 2    | 0    | 0    |    1 |\n",
       "\n"
      ],
      "text/plain": [
       "        year age_group_5_years race_eth first_degree_hx age_menarche\n",
       "792997  2006  8                9        9               9           \n",
       "986739  2008  7                2        0               9           \n",
       "845393  2007  5                1        0               9           \n",
       "996805  2008  8                1        1               1           \n",
       "481428  2004  3                1        0               9           \n",
       "169906  2001  6                5        0               9           \n",
       "333718  2002 10                1        0               9           \n",
       "537807  2004  6                9        9               9           \n",
       "801853  2006  9                9        0               9           \n",
       "1126577 2009 10                1        9               2           \n",
       "        age_first_birth BIRADS_breast_density current_hrt menopaus bmi_group\n",
       "792997  9               2                     9           2        9        \n",
       "986739  9               2                     0           2        9        \n",
       "845393  9               2                     0           1        9        \n",
       "996805  1               2                     0           2        2        \n",
       "481428  9               3                     0           1        2        \n",
       "169906  9               1                     1           2        3        \n",
       "333718  9               9                     0           2        2        \n",
       "537807  9               9                     9           9        9        \n",
       "801853  1               1                     0           2        9        \n",
       "1126577 9               2                     0           2        2        \n",
       "        biophx breast_cancer_history count\n",
       "792997  0      0                      218 \n",
       "986739  0      0                      771 \n",
       "845393  0      0                      877 \n",
       "996805  0      0                       32 \n",
       "481428  0      0                       97 \n",
       "169906  0      0                       11 \n",
       "333718  0      0                      148 \n",
       "537807  9      9                     5518 \n",
       "801853  0      0                       24 \n",
       "1126577 0      0                        1 "
      ]
     },
     "metadata": {},
     "output_type": "display_data"
    }
   ],
   "source": [
    "head(riskfactorsSampled,10)"
   ]
  },
  {
   "cell_type": "code",
   "execution_count": 13,
   "metadata": {},
   "outputs": [
    {
     "data": {
      "text/html": [
       "5000"
      ],
      "text/latex": [
       "5000"
      ],
      "text/markdown": [
       "5000"
      ],
      "text/plain": [
       "[1] 5000"
      ]
     },
     "metadata": {},
     "output_type": "display_data"
    }
   ],
   "source": [
    "nrow(riskfactorsSampled)"
   ]
  },
  {
   "cell_type": "code",
   "execution_count": 14,
   "metadata": {},
   "outputs": [
    {
     "data": {
      "text/html": [
       "<ol class=list-inline>\n",
       "\t<li>2006</li>\n",
       "\t<li>2008</li>\n",
       "\t<li>2007</li>\n",
       "\t<li>2004</li>\n",
       "\t<li>2001</li>\n",
       "\t<li>2002</li>\n",
       "\t<li>2009</li>\n",
       "\t<li>2000</li>\n",
       "\t<li>2003</li>\n",
       "\t<li>2005</li>\n",
       "</ol>\n"
      ],
      "text/latex": [
       "\\begin{enumerate*}\n",
       "\\item 2006\n",
       "\\item 2008\n",
       "\\item 2007\n",
       "\\item 2004\n",
       "\\item 2001\n",
       "\\item 2002\n",
       "\\item 2009\n",
       "\\item 2000\n",
       "\\item 2003\n",
       "\\item 2005\n",
       "\\end{enumerate*}\n"
      ],
      "text/markdown": [
       "1. 2006\n",
       "2. 2008\n",
       "3. 2007\n",
       "4. 2004\n",
       "5. 2001\n",
       "6. 2002\n",
       "7. 2009\n",
       "8. 2000\n",
       "9. 2003\n",
       "10. 2005\n",
       "\n",
       "\n"
      ],
      "text/plain": [
       " [1] 2006 2008 2007 2004 2001 2002 2009 2000 2003 2005"
      ]
     },
     "metadata": {},
     "output_type": "display_data"
    }
   ],
   "source": [
    "unique(riskfactorsSampled$year)"
   ]
  },
  {
   "cell_type": "code",
   "execution_count": 15,
   "metadata": {},
   "outputs": [],
   "source": [
    "write.csv(riskfactorsSampled,\"./datos/BCSC_risk_factors_summarized_sampled.csv\")"
   ]
  },
  {
   "cell_type": "code",
   "execution_count": 16,
   "metadata": {},
   "outputs": [],
   "source": [
    "riskfactorsSampled<-read.csv(\"./datos/BCSC_risk_factors_summarized_sampled.csv\", sep = \",\")"
   ]
  },
  {
   "cell_type": "code",
   "execution_count": 17,
   "metadata": {},
   "outputs": [],
   "source": [
    "ageVector <- c(27,32,37,42,47,52,57,62,67,72,77,82,87)\n",
    "riskfactorsSampled$age_group_5_years <- ageVector[as.numeric(riskfactorsSampled$age_group_5_years)]\n",
    "RaceEthVector <- c(\"Non-Hispanic white\",\"Non-Hispanic black\",\"Asian/Pacific Islander\",\"Native American\",\"Hispanic\",\"Other/mixed\")\n",
    "riskfactorsSampled$race_eth_name <- factor(RaceEthVector[as.numeric(riskfactorsSampled$race_eth)])"
   ]
  },
  {
   "cell_type": "code",
   "execution_count": 35,
   "metadata": {},
   "outputs": [],
   "source": [
    "riskfactorsSampledNA <- riskfactorsSampled\n",
    "riskfactorsSampledNA$bmi_group[riskfactorsSampledNA$bmi_group == 9] <- NA\n",
    "riskfactorsSampledNA$race_eth[riskfactorsSampledNA$race_eth == 9] <- NA\n",
    "riskfactorsSampledNA$first_degree_hx[riskfactorsSampledNA$first_degree_hx == 9] <- NA\n",
    "riskfactorsSampledNA$age_menarche[riskfactorsSampledNA$age_menarche == 9] <- NA\n",
    "riskfactorsSampledNA$age_first_birth[riskfactorsSampledNA$age_first_birth == 9] <- NA\n",
    "riskfactorsSampledNA$BIRADS_breast_density[riskfactorsSampledNA$BIRADS_breast_density == 9] <- NA\n",
    "riskfactorsSampledNA$current_hrt[riskfactorsSampledNA$current_hrt == 9] <- NA\n",
    "riskfactorsSampledNA$menopaus[riskfactorsSampledNA$menopaus == 9] <- NA\n",
    "riskfactorsSampledNA$biophx[riskfactorsSampledNA$biophx == 9] <- NA\n",
    "riskfactorsSampledNA$breast_cancer_history[riskfactorsSampledNA$breast_cancer_history == 9] <- NA\n",
    "\n",
    "riskfactorsSampledNA$first_degree_hx <- factor(riskfactorsSampledNA$first_degree_hx)\n",
    "riskfactorsSampledNA$BIRADS_breast_density <- factor(riskfactorsSampledNA$BIRADS_breast_density)"
   ]
  },
  {
   "cell_type": "code",
   "execution_count": 19,
   "metadata": {},
   "outputs": [
    {
     "data": {
      "text/html": [
       "<table>\n",
       "<thead><tr><th scope=col>X</th><th scope=col>year</th><th scope=col>age_group_5_years</th><th scope=col>race_eth</th><th scope=col>first_degree_hx</th><th scope=col>age_menarche</th><th scope=col>age_first_birth</th><th scope=col>BIRADS_breast_density</th><th scope=col>current_hrt</th><th scope=col>menopaus</th><th scope=col>bmi_group</th><th scope=col>biophx</th><th scope=col>breast_cancer_history</th><th scope=col>count</th><th scope=col>race_eth_name</th></tr></thead>\n",
       "<tbody>\n",
       "\t<tr><td> 792997           </td><td>2006              </td><td>62                </td><td>NA                </td><td>NA                </td><td>NA                </td><td>NA                </td><td>2                 </td><td>NA                </td><td> 2                </td><td>NA                </td><td> 0                </td><td> 0                </td><td> 218              </td><td>NA                </td></tr>\n",
       "\t<tr><td> 986739           </td><td>2008              </td><td>57                </td><td> 2                </td><td>0                 </td><td>NA                </td><td>NA                </td><td>2                 </td><td> 0                </td><td> 2                </td><td>NA                </td><td> 0                </td><td> 0                </td><td> 771              </td><td>Non-Hispanic black</td></tr>\n",
       "\t<tr><td> 845393           </td><td>2007              </td><td>47                </td><td> 1                </td><td>0                 </td><td>NA                </td><td>NA                </td><td>2                 </td><td> 0                </td><td> 1                </td><td>NA                </td><td> 0                </td><td> 0                </td><td> 877              </td><td>Non-Hispanic white</td></tr>\n",
       "\t<tr><td> 996805           </td><td>2008              </td><td>62                </td><td> 1                </td><td>1                 </td><td> 1                </td><td> 1                </td><td>2                 </td><td> 0                </td><td> 2                </td><td> 2                </td><td> 0                </td><td> 0                </td><td>  32              </td><td>Non-Hispanic white</td></tr>\n",
       "\t<tr><td> 481428           </td><td>2004              </td><td>37                </td><td> 1                </td><td>0                 </td><td>NA                </td><td>NA                </td><td>3                 </td><td> 0                </td><td> 1                </td><td> 2                </td><td> 0                </td><td> 0                </td><td>  97              </td><td>Non-Hispanic white</td></tr>\n",
       "\t<tr><td> 169906           </td><td>2001              </td><td>52                </td><td> 5                </td><td>0                 </td><td>NA                </td><td>NA                </td><td>1                 </td><td> 1                </td><td> 2                </td><td> 3                </td><td> 0                </td><td> 0                </td><td>  11              </td><td>Hispanic          </td></tr>\n",
       "\t<tr><td> 333718           </td><td>2002              </td><td>72                </td><td> 1                </td><td>0                 </td><td>NA                </td><td>NA                </td><td>NA                </td><td> 0                </td><td> 2                </td><td> 2                </td><td> 0                </td><td> 0                </td><td> 148              </td><td>Non-Hispanic white</td></tr>\n",
       "\t<tr><td> 537807           </td><td>2004              </td><td>52                </td><td>NA                </td><td>NA                </td><td>NA                </td><td>NA                </td><td>NA                </td><td>NA                </td><td>NA                </td><td>NA                </td><td>NA                </td><td>NA                </td><td>5518              </td><td>NA                </td></tr>\n",
       "\t<tr><td> 801853           </td><td>2006              </td><td>67                </td><td>NA                </td><td>0                 </td><td>NA                </td><td> 1                </td><td>1                 </td><td> 0                </td><td> 2                </td><td>NA                </td><td> 0                </td><td> 0                </td><td>  24              </td><td>NA                </td></tr>\n",
       "\t<tr><td>1126577           </td><td>2009              </td><td>72                </td><td> 1                </td><td>NA                </td><td> 2                </td><td>NA                </td><td>2                 </td><td> 0                </td><td> 2                </td><td> 2                </td><td> 0                </td><td> 0                </td><td>   1              </td><td>Non-Hispanic white</td></tr>\n",
       "</tbody>\n",
       "</table>\n"
      ],
      "text/latex": [
       "\\begin{tabular}{r|lllllllllllllll}\n",
       " X & year & age\\_group\\_5\\_years & race\\_eth & first\\_degree\\_hx & age\\_menarche & age\\_first\\_birth & BIRADS\\_breast\\_density & current\\_hrt & menopaus & bmi\\_group & biophx & breast\\_cancer\\_history & count & race\\_eth\\_name\\\\\n",
       "\\hline\n",
       "\t  792997            & 2006               & 62                 & NA                 & NA                 & NA                 & NA                 & 2                  & NA                 &  2                 & NA                 &  0                 &  0                 &  218               & NA                \\\\\n",
       "\t  986739            & 2008               & 57                 &  2                 & 0                  & NA                 & NA                 & 2                  &  0                 &  2                 & NA                 &  0                 &  0                 &  771               & Non-Hispanic black\\\\\n",
       "\t  845393            & 2007               & 47                 &  1                 & 0                  & NA                 & NA                 & 2                  &  0                 &  1                 & NA                 &  0                 &  0                 &  877               & Non-Hispanic white\\\\\n",
       "\t  996805            & 2008               & 62                 &  1                 & 1                  &  1                 &  1                 & 2                  &  0                 &  2                 &  2                 &  0                 &  0                 &   32               & Non-Hispanic white\\\\\n",
       "\t  481428            & 2004               & 37                 &  1                 & 0                  & NA                 & NA                 & 3                  &  0                 &  1                 &  2                 &  0                 &  0                 &   97               & Non-Hispanic white\\\\\n",
       "\t  169906            & 2001               & 52                 &  5                 & 0                  & NA                 & NA                 & 1                  &  1                 &  2                 &  3                 &  0                 &  0                 &   11               & Hispanic          \\\\\n",
       "\t  333718            & 2002               & 72                 &  1                 & 0                  & NA                 & NA                 & NA                 &  0                 &  2                 &  2                 &  0                 &  0                 &  148               & Non-Hispanic white\\\\\n",
       "\t  537807            & 2004               & 52                 & NA                 & NA                 & NA                 & NA                 & NA                 & NA                 & NA                 & NA                 & NA                 & NA                 & 5518               & NA                \\\\\n",
       "\t  801853            & 2006               & 67                 & NA                 & 0                  & NA                 &  1                 & 1                  &  0                 &  2                 & NA                 &  0                 &  0                 &   24               & NA                \\\\\n",
       "\t 1126577            & 2009               & 72                 &  1                 & NA                 &  2                 & NA                 & 2                  &  0                 &  2                 &  2                 &  0                 &  0                 &    1               & Non-Hispanic white\\\\\n",
       "\\end{tabular}\n"
      ],
      "text/markdown": [
       "\n",
       "| X | year | age_group_5_years | race_eth | first_degree_hx | age_menarche | age_first_birth | BIRADS_breast_density | current_hrt | menopaus | bmi_group | biophx | breast_cancer_history | count | race_eth_name |\n",
       "|---|---|---|---|---|---|---|---|---|---|---|---|---|---|---|\n",
       "|  792997            | 2006               | 62                 | NA                 | NA                 | NA                 | NA                 | 2                  | NA                 |  2                 | NA                 |  0                 |  0                 |  218               | NA                 |\n",
       "|  986739            | 2008               | 57                 |  2                 | 0                  | NA                 | NA                 | 2                  |  0                 |  2                 | NA                 |  0                 |  0                 |  771               | Non-Hispanic black |\n",
       "|  845393            | 2007               | 47                 |  1                 | 0                  | NA                 | NA                 | 2                  |  0                 |  1                 | NA                 |  0                 |  0                 |  877               | Non-Hispanic white |\n",
       "|  996805            | 2008               | 62                 |  1                 | 1                  |  1                 |  1                 | 2                  |  0                 |  2                 |  2                 |  0                 |  0                 |   32               | Non-Hispanic white |\n",
       "|  481428            | 2004               | 37                 |  1                 | 0                  | NA                 | NA                 | 3                  |  0                 |  1                 |  2                 |  0                 |  0                 |   97               | Non-Hispanic white |\n",
       "|  169906            | 2001               | 52                 |  5                 | 0                  | NA                 | NA                 | 1                  |  1                 |  2                 |  3                 |  0                 |  0                 |   11               | Hispanic           |\n",
       "|  333718            | 2002               | 72                 |  1                 | 0                  | NA                 | NA                 | NA                 |  0                 |  2                 |  2                 |  0                 |  0                 |  148               | Non-Hispanic white |\n",
       "|  537807            | 2004               | 52                 | NA                 | NA                 | NA                 | NA                 | NA                 | NA                 | NA                 | NA                 | NA                 | NA                 | 5518               | NA                 |\n",
       "|  801853            | 2006               | 67                 | NA                 | 0                  | NA                 |  1                 | 1                  |  0                 |  2                 | NA                 |  0                 |  0                 |   24               | NA                 |\n",
       "| 1126577            | 2009               | 72                 |  1                 | NA                 |  2                 | NA                 | 2                  |  0                 |  2                 |  2                 |  0                 |  0                 |    1               | Non-Hispanic white |\n",
       "\n"
      ],
      "text/plain": [
       "   X       year age_group_5_years race_eth first_degree_hx age_menarche\n",
       "1   792997 2006 62                NA       NA              NA          \n",
       "2   986739 2008 57                 2       0               NA          \n",
       "3   845393 2007 47                 1       0               NA          \n",
       "4   996805 2008 62                 1       1                1          \n",
       "5   481428 2004 37                 1       0               NA          \n",
       "6   169906 2001 52                 5       0               NA          \n",
       "7   333718 2002 72                 1       0               NA          \n",
       "8   537807 2004 52                NA       NA              NA          \n",
       "9   801853 2006 67                NA       0               NA          \n",
       "10 1126577 2009 72                 1       NA               2          \n",
       "   age_first_birth BIRADS_breast_density current_hrt menopaus bmi_group biophx\n",
       "1  NA              2                     NA           2       NA         0    \n",
       "2  NA              2                      0           2       NA         0    \n",
       "3  NA              2                      0           1       NA         0    \n",
       "4   1              2                      0           2        2         0    \n",
       "5  NA              3                      0           1        2         0    \n",
       "6  NA              1                      1           2        3         0    \n",
       "7  NA              NA                     0           2        2         0    \n",
       "8  NA              NA                    NA          NA       NA        NA    \n",
       "9   1              1                      0           2       NA         0    \n",
       "10 NA              2                      0           2        2         0    \n",
       "   breast_cancer_history count race_eth_name     \n",
       "1   0                     218  NA                \n",
       "2   0                     771  Non-Hispanic black\n",
       "3   0                     877  Non-Hispanic white\n",
       "4   0                      32  Non-Hispanic white\n",
       "5   0                      97  Non-Hispanic white\n",
       "6   0                      11  Hispanic          \n",
       "7   0                     148  Non-Hispanic white\n",
       "8  NA                    5518  NA                \n",
       "9   0                      24  NA                \n",
       "10  0                       1  Non-Hispanic white"
      ]
     },
     "metadata": {},
     "output_type": "display_data"
    }
   ],
   "source": [
    "head(riskfactorsSampledNA,10)"
   ]
  },
  {
   "cell_type": "markdown",
   "metadata": {},
   "source": [
    "Formatear el dataframe:\n",
    "* Cambiamos los *Desconocido* por NA en las columnas \"race_eth\", \"first_degree_hx\", \"age_menarche\", \"age_first_birth\", \"BIRADS_breast_density\", \"current_hrt\", \"menopaus\", \"bmi_group\", \"biophx\", \"breast_cancer_history\"\n",
    "* Convertimos a factores las columnas que vamos a necesitar"
   ]
  },
  {
   "cell_type": "code",
   "execution_count": 20,
   "metadata": {},
   "outputs": [
    {
     "data": {
      "text/plain": [
       "       X                year      age_group_5_years    race_eth    \n",
       " Min.   :   1030   Min.   :2000   Min.   :27.00     Min.   :1.000  \n",
       " 1st Qu.: 260529   1st Qu.:2002   1st Qu.:47.00     1st Qu.:1.000  \n",
       " Median : 532766   Median :2004   Median :57.00     Median :1.000  \n",
       " Mean   : 544374   Mean   :2004   Mean   :56.62     Mean   :1.614  \n",
       " 3rd Qu.: 833138   3rd Qu.:2007   3rd Qu.:67.00     3rd Qu.:1.000  \n",
       " Max.   :1143326   Max.   :2009   Max.   :87.00     Max.   :6.000  \n",
       "                                                    NA's   :609    \n",
       " first_degree_hx  age_menarche   age_first_birth BIRADS_breast_density\n",
       " 0   :3774       Min.   :0.000   Min.   :0.000   1   : 297            \n",
       " 1   : 737       1st Qu.:0.000   1st Qu.:1.000   2   :1665            \n",
       " NA's: 489       Median :1.000   Median :2.000   3   :1451            \n",
       "                 Mean   :1.014   Mean   :2.024   4   : 256            \n",
       "                 3rd Qu.:2.000   3rd Qu.:3.000   NA's:1331            \n",
       "                 Max.   :2.000   Max.   :4.000                        \n",
       "                 NA's   :3311    NA's   :2790                         \n",
       "  current_hrt        menopaus       bmi_group         biophx      \n",
       " Min.   :0.0000   Min.   :1.000   Min.   :1.000   Min.   :0.0000  \n",
       " 1st Qu.:0.0000   1st Qu.:1.000   1st Qu.:1.000   1st Qu.:0.0000  \n",
       " Median :0.0000   Median :2.000   Median :2.000   Median :0.0000  \n",
       " Mean   :0.1847   Mean   :1.778   Mean   :1.839   Mean   :0.2728  \n",
       " 3rd Qu.:0.0000   3rd Qu.:2.000   3rd Qu.:2.000   3rd Qu.:1.0000  \n",
       " Max.   :1.0000   Max.   :3.000   Max.   :4.000   Max.   :1.0000  \n",
       " NA's   :961      NA's   :765     NA's   :2641    NA's   :480     \n",
       " breast_cancer_history     count                       race_eth_name \n",
       " Min.   :0.0000        Min.   :   1.0   Asian/Pacific Islander: 384  \n",
       " 1st Qu.:0.0000        1st Qu.:   6.0   Hispanic              : 327  \n",
       " Median :0.0000        Median :  30.0   Native American       :  26  \n",
       " Mean   :0.0771        Mean   : 312.7   Non-Hispanic black    : 268  \n",
       " 3rd Qu.:0.0000        3rd Qu.: 181.2   Non-Hispanic white    :3331  \n",
       " Max.   :1.0000        Max.   :8771.0   Other/mixed           :  55  \n",
       " NA's   :1020                           NA's                  : 609  "
      ]
     },
     "metadata": {},
     "output_type": "display_data"
    }
   ],
   "source": [
    "summary(riskfactorsSampledNA)"
   ]
  },
  {
   "cell_type": "markdown",
   "metadata": {},
   "source": [
    "#### Edad y Antecedentes familiares"
   ]
  },
  {
   "cell_type": "markdown",
   "metadata": {},
   "source": [
    "Creamos una nueva columna con la edad estimada para un posterior análisis"
   ]
  },
  {
   "cell_type": "markdown",
   "metadata": {},
   "source": [
    "Representa en un diagrama de cajas cómo varía la **edad de aparición del cancer** en función de si ha habido **antecedentes familiares** o no.\n",
    "Ayuda:\n",
    "- Hay que crear una nueva columna con la edad estimada de cada rango."
   ]
  },
  {
   "cell_type": "code",
   "execution_count": 36,
   "metadata": {},
   "outputs": [
    {
     "data": {
      "text/plain": [
       "\n",
       "Call:\n",
       "lm(formula = age_group_5_years ~ year, data = riskfactorsSampledNA)\n",
       "\n",
       "Residuals:\n",
       "     Min       1Q   Median       3Q      Max \n",
       "-30.7211  -9.5803  -0.4929   9.2789  31.3324 \n",
       "\n",
       "Coefficients:\n",
       "             Estimate Std. Error t value Pr(>|t|)    \n",
       "(Intercept) -400.6661   122.0585  -3.283 0.001036 ** \n",
       "year           0.2282     0.0609   3.746 0.000181 ***\n",
       "---\n",
       "Signif. codes:  0 ‘***’ 0.001 ‘**’ 0.01 ‘*’ 0.05 ‘.’ 0.1 ‘ ’ 1\n",
       "\n",
       "Residual standard error: 12.15 on 4998 degrees of freedom\n",
       "Multiple R-squared:  0.0028,\tAdjusted R-squared:  0.002601 \n",
       "F-statistic: 14.04 on 1 and 4998 DF,  p-value: 0.0001814\n"
      ]
     },
     "metadata": {},
     "output_type": "display_data"
    },
    {
     "data": {
      "text/html": [
       "<table>\n",
       "<thead><tr><th scope=col>X</th><th scope=col>year</th><th scope=col>age_group_5_years</th><th scope=col>race_eth</th><th scope=col>first_degree_hx</th><th scope=col>age_menarche</th><th scope=col>age_first_birth</th><th scope=col>BIRADS_breast_density</th><th scope=col>current_hrt</th><th scope=col>menopaus</th><th scope=col>bmi_group</th><th scope=col>biophx</th><th scope=col>breast_cancer_history</th><th scope=col>count</th><th scope=col>race_eth_name</th><th scope=col>predicted_age</th></tr></thead>\n",
       "<tbody>\n",
       "\t<tr><td>792997 </td><td>2006   </td><td>62     </td><td>NA     </td><td>NA     </td><td>NA     </td><td>NA     </td><td>2      </td><td>NA     </td><td>2      </td><td>NA     </td><td>0      </td><td>0      </td><td>218    </td><td>NA     </td><td>57.0366</td></tr>\n",
       "</tbody>\n",
       "</table>\n"
      ],
      "text/latex": [
       "\\begin{tabular}{r|llllllllllllllll}\n",
       " X & year & age\\_group\\_5\\_years & race\\_eth & first\\_degree\\_hx & age\\_menarche & age\\_first\\_birth & BIRADS\\_breast\\_density & current\\_hrt & menopaus & bmi\\_group & biophx & breast\\_cancer\\_history & count & race\\_eth\\_name & predicted\\_age\\\\\n",
       "\\hline\n",
       "\t 792997  & 2006    & 62      & NA      & NA      & NA      & NA      & 2       & NA      & 2       & NA      & 0       & 0       & 218     & NA      & 57.0366\\\\\n",
       "\\end{tabular}\n"
      ],
      "text/markdown": [
       "\n",
       "| X | year | age_group_5_years | race_eth | first_degree_hx | age_menarche | age_first_birth | BIRADS_breast_density | current_hrt | menopaus | bmi_group | biophx | breast_cancer_history | count | race_eth_name | predicted_age |\n",
       "|---|---|---|---|---|---|---|---|---|---|---|---|---|---|---|---|\n",
       "| 792997  | 2006    | 62      | NA      | NA      | NA      | NA      | 2       | NA      | 2       | NA      | 0       | 0       | 218     | NA      | 57.0366 |\n",
       "\n"
      ],
      "text/plain": [
       "  X      year age_group_5_years race_eth first_degree_hx age_menarche\n",
       "1 792997 2006 62                NA       NA              NA          \n",
       "  age_first_birth BIRADS_breast_density current_hrt menopaus bmi_group biophx\n",
       "1 NA              2                     NA          2        NA        0     \n",
       "  breast_cancer_history count race_eth_name predicted_age\n",
       "1 0                     218   NA            57.0366      "
      ]
     },
     "metadata": {},
     "output_type": "display_data"
    }
   ],
   "source": [
    "model <- lm(data=riskfactorsSampledNA, formula= age_group_5_years~year)\n",
    "summary(model)\n",
    "riskfactorsSampledNA$predicted_age <- predict(model, riskfactorsSampledNA)\n",
    "head(riskfactorsSampledNA,1)\n"
   ]
  },
  {
   "cell_type": "code",
   "execution_count": 37,
   "metadata": {},
   "outputs": [],
   "source": [
    "riskfactorsSampledNAOmit_DF <- riskfactorsSampledNA[!is.na(riskfactorsSampledNA$first_degree_hx),]"
   ]
  },
  {
   "cell_type": "code",
   "execution_count": 23,
   "metadata": {},
   "outputs": [
    {
     "data": {
      "image/png": "[encoded data removed]",
      "text/plain": [
       "plot without title"
      ]
     },
     "metadata": {},
     "output_type": "display_data"
    }
   ],
   "source": [
    "ggplot(data=riskfactorsSampledNAOmit_DF,aes(x=first_degree_hx, y=predicted_age,color=first_degree_hx))+geom_boxplot()+\n",
    " scale_color_discrete(name=\"Antecedentes de cancer\")"
   ]
  },
  {
   "cell_type": "markdown",
   "metadata": {},
   "source": [
    "¿Existe una diferencia estadística significativa entre la edad de aparición del cancer y si hay antecedentes familiares? ¿Que test usarías para comprobarlo?"
   ]
  },
  {
   "cell_type": "markdown",
   "metadata": {},
   "source": [
    "- Usaremos una t-student será un test bilateral\n",
    "* $H_0$ : La edad de aparicion del cancer no es afectada por antecedentes familiares\n",
    "* $H_1$ : La edad de aparicion del cancer es afectada por antecedentes familiares\n",
    "\n",
    "Aviso: No sabemos si es menor o mayor la edad solo sabemos que puede ser afectada o no"
   ]
  },
  {
   "cell_type": "code",
   "execution_count": 24,
   "metadata": {},
   "outputs": [
    {
     "data": {
      "text/plain": [
       "\n",
       "\tWelch Two Sample t-test\n",
       "\n",
       "data:  riskfactorsSampledNAOmit_DF$predicted_age[riskfactorsSampledNAOmit_DF$first_degree_hx ==  and riskfactorsSampledNAOmit_DF$predicted_age[riskfactorsSampledNAOmit_DF$first_degree_hx ==     1] and     0]\n",
       "t = 0.7022, df = 1040.8, p-value = 0.4827\n",
       "alternative hypothesis: true difference in means is not equal to 0\n",
       "95 percent confidence interval:\n",
       " -0.03238549  0.06848136\n",
       "sample estimates:\n",
       "mean of x mean of y \n",
       " 56.67903  56.66098 \n"
      ]
     },
     "metadata": {},
     "output_type": "display_data"
    }
   ],
   "source": [
    "# Ejecutar t.test\n",
    "tw<-t.test(riskfactorsSampledNAOmit_DF$predicted_age[riskfactorsSampledNAOmit_DF$first_degree_hx==1],\n",
    "           riskfactorsSampledNAOmit_DF$predicted_age[riskfactorsSampledNAOmit_DF$first_degree_hx==0])\n",
    "tw\n",
    "d.f.<-tw$parameter\n",
    "t<-tw$statistic"
   ]
  },
  {
   "cell_type": "code",
   "execution_count": 25,
   "metadata": {},
   "outputs": [
    {
     "data": {
      "text/html": [
       "1.96224586137921"
      ],
      "text/latex": [
       "1.96224586137921"
      ],
      "text/markdown": [
       "1.96224586137921"
      ],
      "text/plain": [
       "[1] 1.962246"
      ]
     },
     "metadata": {},
     "output_type": "display_data"
    },
    {
     "data": {
      "text/html": [
       "-1.96224586137921"
      ],
      "text/latex": [
       "-1.96224586137921"
      ],
      "text/markdown": [
       "-1.96224586137921"
      ],
      "text/plain": [
       "[1] -1.962246"
      ]
     },
     "metadata": {},
     "output_type": "display_data"
    }
   ],
   "source": [
    "loth<-qt(0.025,d.f.,lower.tail = T)\n",
    "upth<-qt(0.025,d.f.,lower.tail = F)\n",
    "upth\n",
    "loth"
   ]
  },
  {
   "cell_type": "code",
   "execution_count": 26,
   "metadata": {},
   "outputs": [
    {
     "data": {
      "text/html": [
       "'El margen que nos llevaría a rechazar la hipótesis nula está fuera del rango: [ -1.96 , 1.96 ]'"
      ],
      "text/latex": [
       "'El margen que nos llevaría a rechazar la hipótesis nula está fuera del rango: {[} -1.96 , 1.96 {]}'"
      ],
      "text/markdown": [
       "'El margen que nos llevaría a rechazar la hipótesis nula está fuera del rango: [ -1.96 , 1.96 ]'"
      ],
      "text/plain": [
       "[1] \"El margen que nos llevaría a rechazar la hipótesis nula está fuera del rango: [ -1.96 , 1.96 ]\""
      ]
     },
     "metadata": {},
     "output_type": "display_data"
    },
    {
     "data": {
      "image/png": "[encoded data removed]",
      "text/plain": [
       "plot without title"
      ]
     },
     "metadata": {},
     "output_type": "display_data"
    }
   ],
   "source": [
    "loth<-qt(0.025,d.f.,lower.tail = T)\n",
    "upth<-qt(0.025,d.f.,lower.tail = F)\n",
    "\n",
    "paste(\"El margen que nos llevaría a rechazar la hipótesis nula está fuera del rango: [\",\n",
    "      round(loth,2),\",\",round(upth,2),\"]\")\n",
    "\n",
    "\n",
    "qsd009<-function(x){    \n",
    "    out<-dt(x,d.f.)\n",
    "    out[x> loth  & x<upth  ]<-NA\n",
    "    out\n",
    "}\n",
    "\n",
    "qsdtest<-function(x){    \n",
    "    out<-dt(x,d.f.)\n",
    "    out[x> -abs(t)  & x< abs(t)  ]<-NA\n",
    "    out\n",
    "}\n",
    "\n",
    "\n",
    "options(repr.plot.height=4,repr.plot.width=6)\n",
    "xdf<-data.frame(z=c(-4,4))\n",
    "ggplot(xdf,aes(x=z))+stat_function(fun=dt,args = list(df = d.f.))+\n",
    "  stat_function(fun=qsd009, geom=\"area\",fill=\"red\",alpha=0.3)+\n",
    "  stat_function(fun=qsdtest, geom=\"area\",fill=\"yellow\",alpha=0.2)+\n",
    "  geom_text(x=3,y=0.1,size=4,label=paste0(\"t_cdf(\",round(upth,2),\")=0.975\"))+\n",
    "  geom_text(x=-3,y=0.1,size=4,label=paste0(\"t_cdf(\",round(loth,2),\")=0.025\"))+\n",
    "\n",
    "  geom_vline(xintercept = t,color=\"blue\")+\n",
    "\n",
    "  theme_linedraw()\n",
    "options(repr.plot.height=7,repr.plot.width=7)"
   ]
  },
  {
   "cell_type": "markdown",
   "metadata": {},
   "source": [
    "- Con este ejemplo no podemos rechazar la hipótesis nula [ -1.97 , 1.97 ], no es estadísticamente significativo, por tanto no podemos asegurar que los antecedentes afecten a la generación de cancer"
   ]
  },
  {
   "cell_type": "markdown",
   "metadata": {},
   "source": [
    "Dibuja la curva de densidad de probabilidad de cómo varía la edad de aparición del cancer en función de si ha habido antecedentes familiares o no."
   ]
  },
  {
   "cell_type": "code",
   "execution_count": 27,
   "metadata": {},
   "outputs": [
    {
     "data": {
      "image/png": "[encoded data removed]",
      "text/plain": [
       "plot without title"
      ]
     },
     "metadata": {},
     "output_type": "display_data"
    }
   ],
   "source": [
    "ggplot(data=riskfactorsSampledNAOmit_DF, aes(x=predicted_age,colour=first_degree_hx)) + geom_density(bw=1)"
   ]
  },
  {
   "cell_type": "markdown",
   "metadata": {},
   "source": [
    "#### Edad y BIRADS"
   ]
  },
  {
   "cell_type": "markdown",
   "metadata": {},
   "source": [
    "Representa en un diagrama de cajas cómo varía la edad de aparición del cancer en función de la densidad del cancder (BIRADS)."
   ]
  },
  {
   "cell_type": "code",
   "execution_count": 38,
   "metadata": {},
   "outputs": [
    {
     "data": {
      "image/png": "[encoded data removed]",
      "text/plain": [
       "plot without title"
      ]
     },
     "metadata": {},
     "output_type": "display_data"
    }
   ],
   "source": [
    "riskfactorsSampledNAOmit_DF <- riskfactorsSampledNA[!is.na(riskfactorsSampledNA$BIRADS_breast_density),]\n",
    "\n",
    "ggplot(data=riskfactorsSampledNAOmit_DF,aes(x=BIRADS_breast_density, y=predicted_age,color=BIRADS_breast_density))+geom_boxplot()+\n",
    " scale_color_discrete(name=\"Densidad de cancer\")"
   ]
  },
  {
   "cell_type": "markdown",
   "metadata": {},
   "source": [
    "¿Existe una evidencia estadística significativa para decir que la edad en la que se detecta el cancer depende de la densidad del cancer (BIRADS)?\n",
    "\n",
    "¿Que test habría que aplicar?"
   ]
  },
  {
   "cell_type": "markdown",
   "metadata": {},
   "source": [
    "- Ya que debemos comparar más de 3 variables utilizaremos un ANOVA"
   ]
  },
  {
   "cell_type": "code",
   "execution_count": 29,
   "metadata": {},
   "outputs": [
    {
     "data": {
      "text/plain": [
       "                        Df Sum Sq Mean Sq F value Pr(>F)  \n",
       "BIRADS_breast_density    3    2.8  0.9296   2.142 0.0928 .\n",
       "Residuals             3665 1590.3  0.4339                 \n",
       "---\n",
       "Signif. codes:  0 ‘***’ 0.001 ‘**’ 0.01 ‘*’ 0.05 ‘.’ 0.1 ‘ ’ 1"
      ]
     },
     "metadata": {},
     "output_type": "display_data"
    }
   ],
   "source": [
    "summary(aov( predicted_age ~ BIRADS_breast_density   , data=riskfactorsSampledNAOmit_DF))"
   ]
  },
  {
   "cell_type": "markdown",
   "metadata": {},
   "source": [
    "El p-value es bajo por lo que podemos rechazar la hipótesis nula. Esto significa que no todos los grupos tienen la misma media."
   ]
  },
  {
   "cell_type": "markdown",
   "metadata": {},
   "source": [
    "#### Tablas de contingencia: BIRADS"
   ]
  },
  {
   "cell_type": "markdown",
   "metadata": {},
   "source": [
    "¿Todos los  tipos de cancer (BIRADS) son igual de probables? ¿Con que test lo comprobarías?"
   ]
  },
  {
   "cell_type": "markdown",
   "metadata": {},
   "source": [
    "- Probariamos con una chi quadrado para ver la homogenidad de la probabilidad de los tipos de cancer"
   ]
  },
  {
   "cell_type": "code",
   "execution_count": 42,
   "metadata": {},
   "outputs": [],
   "source": [
    "riskfactorsSampledNAOmit_DF_num <- riskfactorsSampledNA\n",
    "riskfactorsSampledNAOmit_DF_num$BIRADS_breast_density <- as.numeric(as.character(riskfactorsSampledNA$BIRADS_breast_density))\n",
    "riskfactorsSampledNAOmit_DF_num <- riskfactorsSampledNA[!is.na(riskfactorsSampledNAOmit_DF_num$BIRADS_breast_density),]"
   ]
  },
  {
   "cell_type": "code",
   "execution_count": 43,
   "metadata": {},
   "outputs": [
    {
     "data": {
      "text/plain": [
       "       X                year      age_group_5_years    race_eth    \n",
       " Min.   :   1030   Min.   :2000   Min.   :27.00     Min.   :1.000  \n",
       " 1st Qu.: 261148   1st Qu.:2002   1st Qu.:47.00     1st Qu.:1.000  \n",
       " Median : 556040   Median :2004   Median :57.00     Median :1.000  \n",
       " Mean   : 561242   Mean   :2004   Mean   :56.87     Mean   :1.527  \n",
       " 3rd Qu.: 861801   3rd Qu.:2007   3rd Qu.:67.00     3rd Qu.:1.000  \n",
       " Max.   :1143028   Max.   :2009   Max.   :87.00     Max.   :6.000  \n",
       "                                                    NA's   :370    \n",
       " first_degree_hx  age_menarche   age_first_birth BIRADS_breast_density\n",
       " 0   :2872       Min.   :0.000   Min.   :0.000   1: 297               \n",
       " 1   : 578       1st Qu.:0.000   1st Qu.:1.000   2:1665               \n",
       " NA's: 219       Median :1.000   Median :2.000   3:1451               \n",
       "                 Mean   :1.024   Mean   :1.838   4: 256               \n",
       "                 3rd Qu.:2.000   3rd Qu.:3.000                        \n",
       "                 Max.   :2.000   Max.   :4.000                        \n",
       "                 NA's   :2202    NA's   :1975                         \n",
       "  current_hrt        menopaus       bmi_group         biophx     \n",
       " Min.   :0.0000   Min.   :1.000   Min.   :1.000   Min.   :0.000  \n",
       " 1st Qu.:0.0000   1st Qu.:1.000   1st Qu.:1.000   1st Qu.:0.000  \n",
       " Median :0.0000   Median :2.000   Median :2.000   Median :0.000  \n",
       " Mean   :0.1854   Mean   :1.778   Mean   :1.891   Mean   :0.274  \n",
       " 3rd Qu.:0.0000   3rd Qu.:2.000   3rd Qu.:2.000   3rd Qu.:1.000  \n",
       " Max.   :1.0000   Max.   :3.000   Max.   :4.000   Max.   :1.000  \n",
       " NA's   :433      NA's   :427     NA's   :1896    NA's   :172    \n",
       " breast_cancer_history     count                       race_eth_name \n",
       " Min.   :0.0000        Min.   :   1.0   Asian/Pacific Islander: 176  \n",
       " 1st Qu.:0.0000        1st Qu.:   5.0   Hispanic              : 229  \n",
       " Median :0.0000        Median :  26.0   Native American       :  17  \n",
       " Mean   :0.0679        Mean   : 204.3   Non-Hispanic black    : 226  \n",
       " 3rd Qu.:0.0000        3rd Qu.: 145.0   Non-Hispanic white    :2612  \n",
       " Max.   :1.0000        Max.   :3984.0   Other/mixed           :  39  \n",
       " NA's   :621                            NA's                  : 370  \n",
       " predicted_age  \n",
       " Min.   :55.67  \n",
       " 1st Qu.:56.12  \n",
       " Median :56.58  \n",
       " Mean   :56.65  \n",
       " 3rd Qu.:57.26  \n",
       " Max.   :57.72  \n",
       "                "
      ]
     },
     "metadata": {},
     "output_type": "display_data"
    }
   ],
   "source": [
    "summary(riskfactorsSampledNAOmit_DF_num)"
   ]
  },
  {
   "cell_type": "code",
   "execution_count": 57,
   "metadata": {},
   "outputs": [
    {
     "data": {
      "text/html": [
       "<ol class=list-inline>\n",
       "\t<li>297</li>\n",
       "\t<li>1665</li>\n",
       "\t<li>1451</li>\n",
       "\t<li>256</li>\n",
       "</ol>\n"
      ],
      "text/latex": [
       "\\begin{enumerate*}\n",
       "\\item 297\n",
       "\\item 1665\n",
       "\\item 1451\n",
       "\\item 256\n",
       "\\end{enumerate*}\n"
      ],
      "text/markdown": [
       "1. 297\n",
       "2. 1665\n",
       "3. 1451\n",
       "4. 256\n",
       "\n",
       "\n"
      ],
      "text/plain": [
       "[1]  297 1665 1451  256"
      ]
     },
     "metadata": {},
     "output_type": "display_data"
    }
   ],
   "source": [
    "riskfactorsSampledNAOmit_DF_num_c <- length(riskfactorsSampledNAOmit_DF_num$BIRADS_breast_density[riskfactorsSampledNAOmit_DF_num$BIRADS_breast_density == 1])\n",
    "riskfactorsSampledNAOmit_DF_num_c_2 <- length(riskfactorsSampledNAOmit_DF_num$BIRADS_breast_density[riskfactorsSampledNAOmit_DF_num$BIRADS_breast_density == 2])\n",
    "riskfactorsSampledNAOmit_DF_num_c_3 <- length(riskfactorsSampledNAOmit_DF_num$BIRADS_breast_density[riskfactorsSampledNAOmit_DF_num$BIRADS_breast_density == 3])\n",
    "riskfactorsSampledNAOmit_DF_num_c_4 <- length(riskfactorsSampledNAOmit_DF_num$BIRADS_breast_density[riskfactorsSampledNAOmit_DF_num$BIRADS_breast_density == 4])\n",
    "\n",
    "v_risks = c(riskfactorsSampledNAOmit_DF_num_c, riskfactorsSampledNAOmit_DF_num_c_2, riskfactorsSampledNAOmit_DF_num_c_3, riskfactorsSampledNAOmit_DF_num_c_4)\n",
    "v_risks"
   ]
  },
  {
   "cell_type": "code",
   "execution_count": 58,
   "metadata": {},
   "outputs": [
    {
     "data": {
      "text/plain": [
       "\n",
       "\tChi-squared test for given probabilities\n",
       "\n",
       "data:  v_risks\n",
       "X-squared = 1816.3, df = 3, p-value < 2.2e-16\n"
      ]
     },
     "metadata": {},
     "output_type": "display_data"
    }
   ],
   "source": [
    "cqt <- chisq.test(v_risks)\n",
    "cqt"
   ]
  },
  {
   "cell_type": "code",
   "execution_count": null,
   "metadata": {},
   "outputs": [],
   "source": []
  },
  {
   "cell_type": "markdown",
   "metadata": {},
   "source": [
    "- El p-valor para aceptar la hipótesis nula es muy bajo, así que no podemos asumir que la $H_0$ y quizás no todos tienen la misma probabilidad"
   ]
  },
  {
   "cell_type": "markdown",
   "metadata": {},
   "source": [
    "¿Cual es el tipo de cancer (BIRADS) más común? ¿Con qué proporción?"
   ]
  },
  {
   "cell_type": "code",
   "execution_count": 66,
   "metadata": {},
   "outputs": [
    {
     "data": {
      "text/html": [
       "3669"
      ],
      "text/latex": [
       "3669"
      ],
      "text/markdown": [
       "3669"
      ],
      "text/plain": [
       "[1] 3669"
      ]
     },
     "metadata": {},
     "output_type": "display_data"
    }
   ],
   "source": [
    "riskfactorsSampledNAOmit_DF_num_t = riskfactorsSampledNAOmit_DF_num_c + riskfactorsSampledNAOmit_DF_num_c_2 + riskfactorsSampledNAOmit_DF_num_c_3 + riskfactorsSampledNAOmit_DF_num_c_4\n",
    "\n",
    "riskfactorsSampledNAOmit_DF_num_t"
   ]
  },
  {
   "cell_type": "code",
   "execution_count": 67,
   "metadata": {},
   "outputs": [
    {
     "name": "stdout",
     "output_type": "stream",
     "text": [
      "[1] \"El cancer tipo 1 tiene numero de muestras : 297\"\n",
      "[1] \"El cancer tipo 1 tiene una proporcion de  : 8.09484873262469\"\n",
      "[1] \"El cancer tipo 2 tiene numero de muestras : 1665\"\n",
      "[1] \"El cancer tipo 2 tiene una proporcion de  : 45.3802125919869\"\n",
      "[1] \"El cancer tipo 3 tiene numero de muestras : 1451\"\n",
      "[1] \"El cancer tipo 3 tiene una proporcion de  : 39.547560643227\"\n",
      "[1] \"El cancer tipo 4 tiene numero de muestras : 256\"\n",
      "[1] \"El cancer tipo 4 tiene una proporcion de  : 6.97737803216135\"\n"
     ]
    }
   ],
   "source": [
    "\n",
    "\n",
    "print(paste(\"El cancer tipo 1 tiene numero de muestras :\", riskfactorsSampledNAOmit_DF_num_c))\n",
    "print(paste(\"El cancer tipo 1 tiene una proporcion de  :\", (riskfactorsSampledNAOmit_DF_num_c / riskfactorsSampledNAOmit_DF_num_t)* 100))\n",
    "\n",
    "print(paste(\"El cancer tipo 2 tiene numero de muestras :\", riskfactorsSampledNAOmit_DF_num_c_2))\n",
    "print(paste(\"El cancer tipo 2 tiene una proporcion de  :\", (riskfactorsSampledNAOmit_DF_num_c_2 / riskfactorsSampledNAOmit_DF_num_t)* 100))\n",
    "\n",
    "print(paste(\"El cancer tipo 3 tiene numero de muestras :\", riskfactorsSampledNAOmit_DF_num_c_3))\n",
    "print(paste(\"El cancer tipo 3 tiene una proporcion de  :\", (riskfactorsSampledNAOmit_DF_num_c_3 / riskfactorsSampledNAOmit_DF_num_t)* 100))\n",
    "\n",
    "print(paste(\"El cancer tipo 4 tiene numero de muestras :\", riskfactorsSampledNAOmit_DF_num_c_4))\n",
    "print(paste(\"El cancer tipo 4 tiene una proporcion de  :\", (riskfactorsSampledNAOmit_DF_num_c_4 / riskfactorsSampledNAOmit_DF_num_t)* 100))\n"
   ]
  },
  {
   "cell_type": "markdown",
   "metadata": {},
   "source": [
    "- El cancer mas comun es el tipo 2 Scattered fibroglandular densities "
   ]
  },
  {
   "cell_type": "markdown",
   "metadata": {},
   "source": [
    "¿Depende el tipo de cancer (BIRADS) de si ha habido o no antecedentes familiares?"
   ]
  },
  {
   "cell_type": "code",
   "execution_count": 78,
   "metadata": {},
   "outputs": [
    {
     "data": {
      "text/html": [
       "'Los coeficientes son:'"
      ],
      "text/latex": [
       "'Los coeficientes son:'"
      ],
      "text/markdown": [
       "'Los coeficientes son:'"
      ],
      "text/plain": [
       "[1] \"Los coeficientes son:\""
      ]
     },
     "metadata": {},
     "output_type": "display_data"
    },
    {
     "data": {
      "text/html": [
       "<dl class=dl-horizontal>\n",
       "\t<dt>(Intercept)</dt>\n",
       "\t\t<dd>2.47476571781156</dd>\n",
       "\t<dt>first_degree_hx1</dt>\n",
       "\t\t<dd>-0.24244982066392</dd>\n",
       "</dl>\n"
      ],
      "text/latex": [
       "\\begin{description*}\n",
       "\\item[(Intercept)] 2.47476571781156\n",
       "\\item[first\\textbackslash{}\\_degree\\textbackslash{}\\_hx1] -0.24244982066392\n",
       "\\end{description*}\n"
      ],
      "text/markdown": [
       "(Intercept)\n",
       ":   2.47476571781156first_degree_hx1\n",
       ":   -0.24244982066392\n",
       "\n"
      ],
      "text/plain": [
       "     (Intercept) first_degree_hx1 \n",
       "       2.4747657       -0.2424498 "
      ]
     },
     "metadata": {},
     "output_type": "display_data"
    }
   ],
   "source": [
    "modelglm<-glm(data=riskfactorsSampledNAOmit_DF_num_clean,BIRADS_breast_density~first_degree_hx, family=binomial())\n",
    "\n",
    "cf<-(coef(modelglm))\n",
    "paste(\"Los coeficientes son:\")\n",
    "cf"
   ]
  },
  {
   "cell_type": "code",
   "execution_count": 79,
   "metadata": {},
   "outputs": [
    {
     "data": {
      "text/plain": [
       "                     first_degree_hx\n",
       "BIRADS_breast_density         0         1\n",
       "                    1 0.7992832 0.2007168\n",
       "                    2 0.8422392 0.1577608\n",
       "                    3 0.8321114 0.1678886\n",
       "                    4 0.8085106 0.1914894"
      ]
     },
     "metadata": {},
     "output_type": "display_data"
    }
   ],
   "source": [
    "tAntecedentes<-prop.table(table(riskfactorsSampledNAOmit_DF_num_clean[,c(\"BIRADS_breast_density\",\"first_degree_hx\")]),margin = 1)\n",
    "tAntecedentes"
   ]
  },
  {
   "cell_type": "markdown",
   "metadata": {},
   "source": [
    "- Podemos ver como si que afecta los antecedentes al tipo de cancer"
   ]
  },
  {
   "cell_type": "markdown",
   "metadata": {},
   "source": [
    "¿Depende el tipo de cancer BIRADS del grupo étnico?"
   ]
  },
  {
   "cell_type": "code",
   "execution_count": 82,
   "metadata": {},
   "outputs": [],
   "source": [
    "riskfactorsSampledNAOmit_DF_num_clean <- riskfactorsSampledNAOmit_DF_num_clean[!is.na(riskfactorsSampledNAOmit_DF_num_clean$race_eth),]\n",
    "riskfactorsSampledNAOmit_DF_num_clean$race_eth <- factor(riskfactorsSampledNAOmit_DF_num_clean$race_eth)"
   ]
  },
  {
   "cell_type": "code",
   "execution_count": 83,
   "metadata": {},
   "outputs": [
    {
     "data": {
      "text/plain": [
       "       X                year      age_group_5_years race_eth first_degree_hx\n",
       " Min.   :   1030   Min.   :2000   Min.   :27.00     1:2473   0:2576         \n",
       " 1st Qu.: 282137   1st Qu.:2002   1st Qu.:47.00     2: 200   1: 537         \n",
       " Median : 565698   Median :2004   Median :57.00     3: 170                  \n",
       " Mean   : 574006   Mean   :2004   Mean   :57.02     4:  16                  \n",
       " 3rd Qu.: 867119   3rd Qu.:2007   3rd Qu.:67.00     5: 217                  \n",
       " Max.   :1143028   Max.   :2009   Max.   :87.00     6:  37                  \n",
       "                                                                            \n",
       "  age_menarche   age_first_birth BIRADS_breast_density  current_hrt    \n",
       " Min.   :0.000   Min.   :0.000   1: 252                Min.   :0.0000  \n",
       " 1st Qu.:0.000   1st Qu.:1.000   2:1408                1st Qu.:0.0000  \n",
       " Median :1.000   Median :2.000   3:1235                Median :0.0000  \n",
       " Mean   :1.026   Mean   :1.846   4: 218                Mean   :0.1814  \n",
       " 3rd Qu.:2.000   3rd Qu.:3.000                         3rd Qu.:0.0000  \n",
       " Max.   :2.000   Max.   :4.000                         Max.   :1.0000  \n",
       " NA's   :1724    NA's   :1548                          NA's   :346     \n",
       "    menopaus       bmi_group         biophx       breast_cancer_history\n",
       " Min.   :1.000   Min.   :1.000   Min.   :0.0000   Min.   :0.0000       \n",
       " 1st Qu.:1.000   1st Qu.:1.000   1st Qu.:0.0000   1st Qu.:0.0000       \n",
       " Median :2.000   Median :2.000   Median :0.0000   Median :0.0000       \n",
       " Mean   :1.775   Mean   :1.886   Mean   :0.2829   Mean   :0.0646       \n",
       " 3rd Qu.:2.000   3rd Qu.:2.000   3rd Qu.:1.0000   3rd Qu.:0.0000       \n",
       " Max.   :3.000   Max.   :4.000   Max.   :1.0000   Max.   :1.0000       \n",
       " NA's   :303     NA's   :1375    NA's   :112      NA's   :388          \n",
       "     count                       race_eth_name  predicted_age  \n",
       " Min.   :   1.0   Asian/Pacific Islander: 170   Min.   :55.67  \n",
       " 1st Qu.:   5.0   Hispanic              : 217   1st Qu.:56.12  \n",
       " Median :  23.0   Native American       :  16   Median :56.58  \n",
       " Mean   : 186.7   Non-Hispanic black    : 200   Mean   :56.68  \n",
       " 3rd Qu.: 119.0   Non-Hispanic white    :2473   3rd Qu.:57.26  \n",
       " Max.   :3984.0   Other/mixed           :  37   Max.   :57.72  \n",
       "                                                               "
      ]
     },
     "metadata": {},
     "output_type": "display_data"
    }
   ],
   "source": [
    "summary(riskfactorsSampledNAOmit_DF_num_clean)"
   ]
  },
  {
   "cell_type": "code",
   "execution_count": 85,
   "metadata": {},
   "outputs": [
    {
     "data": {
      "text/html": [
       "'Los coeficientes son:'"
      ],
      "text/latex": [
       "'Los coeficientes son:'"
      ],
      "text/markdown": [
       "'Los coeficientes son:'"
      ],
      "text/plain": [
       "[1] \"Los coeficientes son:\""
      ]
     },
     "metadata": {},
     "output_type": "display_data"
    },
    {
     "data": {
      "text/html": [
       "<dl class=dl-horizontal>\n",
       "\t<dt>(Intercept)</dt>\n",
       "\t\t<dd>2.44697106650782</dd>\n",
       "\t<dt>race_eth2</dt>\n",
       "\t\t<dd>-0.192913014408612</dd>\n",
       "\t<dt>race_eth3</dt>\n",
       "\t\t<dd>0.325617655401471</dd>\n",
       "\t<dt>race_eth4</dt>\n",
       "\t\t<dd>0.261079134496263</dd>\n",
       "\t<dt>race_eth5</dt>\n",
       "\t\t<dd>-0.314607123373872</dd>\n",
       "\t<dt>race_eth6</dt>\n",
       "\t\t<dd>0.415229812845466</dd>\n",
       "</dl>\n"
      ],
      "text/latex": [
       "\\begin{description*}\n",
       "\\item[(Intercept)] 2.44697106650782\n",
       "\\item[race\\textbackslash{}\\_eth2] -0.192913014408612\n",
       "\\item[race\\textbackslash{}\\_eth3] 0.325617655401471\n",
       "\\item[race\\textbackslash{}\\_eth4] 0.261079134496263\n",
       "\\item[race\\textbackslash{}\\_eth5] -0.314607123373872\n",
       "\\item[race\\textbackslash{}\\_eth6] 0.415229812845466\n",
       "\\end{description*}\n"
      ],
      "text/markdown": [
       "(Intercept)\n",
       ":   2.44697106650782race_eth2\n",
       ":   -0.192913014408612race_eth3\n",
       ":   0.325617655401471race_eth4\n",
       ":   0.261079134496263race_eth5\n",
       ":   -0.314607123373872race_eth6\n",
       ":   0.415229812845466\n",
       "\n"
      ],
      "text/plain": [
       "(Intercept)   race_eth2   race_eth3   race_eth4   race_eth5   race_eth6 \n",
       "  2.4469711  -0.1929130   0.3256177   0.2610791  -0.3146071   0.4152298 "
      ]
     },
     "metadata": {},
     "output_type": "display_data"
    }
   ],
   "source": [
    "modelglm<-glm(data=riskfactorsSampledNAOmit_DF_num_clean,BIRADS_breast_density~race_eth, family=binomial())\n",
    "\n",
    "cf<-(coef(modelglm))\n",
    "paste(\"Los coeficientes son:\")\n",
    "cf"
   ]
  },
  {
   "cell_type": "code",
   "execution_count": 86,
   "metadata": {},
   "outputs": [
    {
     "data": {
      "text/plain": [
       "                     race_eth\n",
       "BIRADS_breast_density           1           2           3           4\n",
       "                    1 0.781746032 0.075396825 0.039682540 0.003968254\n",
       "                    2 0.817471591 0.065340909 0.035511364 0.004971591\n",
       "                    3 0.776518219 0.065587045 0.067206478 0.004048583\n",
       "                    4 0.761467890 0.036697248 0.123853211 0.013761468\n",
       "                     race_eth\n",
       "BIRADS_breast_density           5           6\n",
       "                    1 0.091269841 0.007936508\n",
       "                    2 0.064630682 0.012073864\n",
       "                    3 0.074493927 0.012145749\n",
       "                    4 0.050458716 0.013761468"
      ]
     },
     "metadata": {},
     "output_type": "display_data"
    }
   ],
   "source": [
    "tAntecedentes<-prop.table(table(riskfactorsSampledNAOmit_DF_num_clean[,c(\"BIRADS_breast_density\",\"race_eth\")]),margin = 1)\n",
    "tAntecedentes"
   ]
  },
  {
   "cell_type": "code",
   "execution_count": 88,
   "metadata": {},
   "outputs": [
    {
     "data": {
      "text/html": [
       "<table>\n",
       "<thead><tr><th></th><th scope=col>Df</th><th scope=col>Deviance</th><th scope=col>Resid. Df</th><th scope=col>Resid. Dev</th><th scope=col>Pr(&gt;Chi)</th></tr></thead>\n",
       "<tbody>\n",
       "\t<tr><th scope=row>NULL</th><td>NA       </td><td>      NA </td><td>3112     </td><td>1750.039 </td><td>       NA</td></tr>\n",
       "\t<tr><th scope=row>race_eth</th><td> 5       </td><td>3.949868 </td><td>3107     </td><td>1746.089 </td><td>0.5566561</td></tr>\n",
       "</tbody>\n",
       "</table>\n"
      ],
      "text/latex": [
       "\\begin{tabular}{r|lllll}\n",
       "  & Df & Deviance & Resid. Df & Resid. Dev & Pr(>Chi)\\\\\n",
       "\\hline\n",
       "\tNULL & NA        &       NA  & 3112      & 1750.039  &        NA\\\\\n",
       "\trace\\_eth &  5        & 3.949868  & 3107      & 1746.089  & 0.5566561\\\\\n",
       "\\end{tabular}\n"
      ],
      "text/markdown": [
       "\n",
       "| <!--/--> | Df | Deviance | Resid. Df | Resid. Dev | Pr(>Chi) |\n",
       "|---|---|---|---|---|---|\n",
       "| NULL | NA        |       NA  | 3112      | 1750.039  |        NA |\n",
       "| race_eth |  5        | 3.949868  | 3107      | 1746.089  | 0.5566561 |\n",
       "\n"
      ],
      "text/plain": [
       "         Df Deviance Resid. Df Resid. Dev Pr(>Chi) \n",
       "NULL     NA       NA 3112      1750.039          NA\n",
       "race_eth  5 3.949868 3107      1746.089   0.5566561"
      ]
     },
     "metadata": {},
     "output_type": "display_data"
    }
   ],
   "source": [
    "anova(modelglm,test=\"Chi\")"
   ]
  },
  {
   "cell_type": "markdown",
   "metadata": {},
   "source": [
    "- Podemos ver como la raza de tipo 1 non-hispanic white esta muy influenciado a tener el cancer de tipo 1, por todos los demas tipos de cancer con los tipos de etnias vemos como estan bastante distribuidos"
   ]
  },
  {
   "cell_type": "code",
   "execution_count": 91,
   "metadata": {},
   "outputs": [
    {
     "data": {
      "text/plain": [
       "       X                year      age_group_5_years race_eth first_degree_hx\n",
       " Min.   :   1030   Min.   :2000   Min.   :27.00     1:2473   0:2576         \n",
       " 1st Qu.: 282137   1st Qu.:2002   1st Qu.:47.00     2: 200   1: 537         \n",
       " Median : 565698   Median :2004   Median :57.00     3: 170                  \n",
       " Mean   : 574006   Mean   :2004   Mean   :57.02     4:  16                  \n",
       " 3rd Qu.: 867119   3rd Qu.:2007   3rd Qu.:67.00     5: 217                  \n",
       " Max.   :1143028   Max.   :2009   Max.   :87.00     6:  37                  \n",
       "                                                                            \n",
       "  age_menarche   age_first_birth BIRADS_breast_density  current_hrt    \n",
       " Min.   :0.000   Min.   :0.000   1: 252                Min.   :0.0000  \n",
       " 1st Qu.:0.000   1st Qu.:1.000   2:1408                1st Qu.:0.0000  \n",
       " Median :1.000   Median :2.000   3:1235                Median :0.0000  \n",
       " Mean   :1.026   Mean   :1.846   4: 218                Mean   :0.1814  \n",
       " 3rd Qu.:2.000   3rd Qu.:3.000                         3rd Qu.:0.0000  \n",
       " Max.   :2.000   Max.   :4.000                         Max.   :1.0000  \n",
       " NA's   :1724    NA's   :1548                          NA's   :346     \n",
       "    menopaus       bmi_group         biophx       breast_cancer_history\n",
       " Min.   :1.000   Min.   :1.000   Min.   :0.0000   Min.   :0.0000       \n",
       " 1st Qu.:1.000   1st Qu.:1.000   1st Qu.:0.0000   1st Qu.:0.0000       \n",
       " Median :2.000   Median :2.000   Median :0.0000   Median :0.0000       \n",
       " Mean   :1.775   Mean   :1.886   Mean   :0.2829   Mean   :0.0646       \n",
       " 3rd Qu.:2.000   3rd Qu.:2.000   3rd Qu.:1.0000   3rd Qu.:0.0000       \n",
       " Max.   :3.000   Max.   :4.000   Max.   :1.0000   Max.   :1.0000       \n",
       " NA's   :303     NA's   :1375    NA's   :112      NA's   :388          \n",
       "     count                       race_eth_name  predicted_age  \n",
       " Min.   :   1.0   Asian/Pacific Islander: 170   Min.   :55.67  \n",
       " 1st Qu.:   5.0   Hispanic              : 217   1st Qu.:56.12  \n",
       " Median :  23.0   Native American       :  16   Median :56.58  \n",
       " Mean   : 186.7   Non-Hispanic black    : 200   Mean   :56.68  \n",
       " 3rd Qu.: 119.0   Non-Hispanic white    :2473   3rd Qu.:57.26  \n",
       " Max.   :3984.0   Other/mixed           :  37   Max.   :57.72  \n",
       "                                                               "
      ]
     },
     "metadata": {},
     "output_type": "display_data"
    }
   ],
   "source": [
    "riskfactorsSampledNAOmit_DF_num_clean$race_eth  <- factor(riskfactorsSampledNAOmit_DF_num_clean$race_eth)\n",
    "riskfactorsSampledNAOmit_DF_num_clean$BIRADS_breast_density  <- factor(riskfactorsSampledNAOmit_DF_num_clean$BIRADS_breast_density)\n",
    "summary(riskfactorsSampledNAOmit_DF_num_clean)"
   ]
  },
  {
   "cell_type": "markdown",
   "metadata": {},
   "source": [
    "¿Cual es la probabilidad (con su margen de error del 95%) de que un *Native American* tenga un cancer de tipo *Almost entirely fat*?\n",
    "\n",
    "*Aviso*: Cuidado con los NA"
   ]
  },
  {
   "cell_type": "code",
   "execution_count": 105,
   "metadata": {},
   "outputs": [
    {
     "data": {
      "text/html": [
       "<ol class=list-inline>\n",
       "\t<li>0.0190366972477064</li>\n",
       "\t<li>0.74243119266055</li>\n",
       "</ol>\n"
      ],
      "text/latex": [
       "\\begin{enumerate*}\n",
       "\\item 0.0190366972477064\n",
       "\\item 0.74243119266055\n",
       "\\end{enumerate*}\n"
      ],
      "text/markdown": [
       "1. 0.0190366972477064\n",
       "2. 0.74243119266055\n",
       "\n",
       "\n"
      ],
      "text/plain": [
       "[1] 0.0190367 0.7424312"
      ]
     },
     "metadata": {},
     "output_type": "display_data"
    }
   ],
   "source": [
    "c(tAntecedentes[4,1]*0.025, tAntecedentes[4,1]* 0.975)"
   ]
  }
 ],
 "metadata": {
  "kernelspec": {
   "display_name": "R",
   "language": "R",
   "name": "ir"
  },
  "language_info": {
   "codemirror_mode": "r",
   "file_extension": ".r",
   "mimetype": "text/x-r-source",
   "name": "R",
   "pygments_lexer": "r",
   "version": "3.4.4"
  }
 },
 "nbformat": 4,
 "nbformat_minor": 1
}
